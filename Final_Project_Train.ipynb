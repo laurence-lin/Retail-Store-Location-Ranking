{
  "nbformat": 4,
  "nbformat_minor": 0,
  "metadata": {
    "colab": {
      "name": "Final_Project_Train.ipynb",
      "provenance": [],
      "collapsed_sections": [],
      "authorship_tag": "ABX9TyOwuudYbvuLfk+4BkLfXmBo",
      "include_colab_link": true
    },
    "kernelspec": {
      "name": "python3",
      "display_name": "Python 3"
    }
  },
  "cells": [
    {
      "cell_type": "markdown",
      "metadata": {
        "id": "view-in-github",
        "colab_type": "text"
      },
      "source": [
        "<a href=\"https://colab.research.google.com/github/laurence-lin/Retail-Store-Location-Ranking/blob/master/Final_Project_Train.ipynb\" target=\"_parent\"><img src=\"https://colab.research.google.com/assets/colab-badge.svg\" alt=\"Open In Colab\"/></a>"
      ]
    },
    {
      "cell_type": "code",
      "metadata": {
        "id": "ddt8Op4bSbIo",
        "colab_type": "code",
        "colab": {
          "base_uri": "https://localhost:8080/",
          "height": 34
        },
        "outputId": "639dcbb0-563f-41de-f017-6f5f8939dbf8"
      },
      "source": [
        "import numpy as np\n",
        "import pandas as pd\n",
        "\n",
        "import matplotlib.pyplot as plt\n",
        "import seaborn as sns\n",
        "\n",
        "import sklearn\n",
        "from sklearn.preprocessing import MinMaxScaler, PolynomialFeatures\n",
        "from sklearn.model_selection import train_test_split\n",
        "from sklearn.linear_model import LinearRegression\n",
        "from sklearn.tree import DecisionTreeRegressor\n",
        "from sklearn.svm import SVR\n",
        "from sklearn.neural_network import MLPRegressor\n",
        "\n",
        "import gc\n",
        "\n",
        "print('Library imported.')\n",
        "\n",
        "pd.set_option('display.max_columns', 500)\n",
        "pd.set_option('display.max_colwidth', 500)\n",
        "\n",
        "from google.colab import files\n",
        "\n"
      ],
      "execution_count": null,
      "outputs": [
        {
          "output_type": "stream",
          "text": [
            "Library imported.\n"
          ],
          "name": "stdout"
        }
      ]
    },
    {
      "cell_type": "code",
      "metadata": {
        "id": "h5UREuYDTxVN",
        "colab_type": "code",
        "colab": {
          "base_uri": "https://localhost:8080/",
          "height": 195
        },
        "outputId": "ed056e56-c9ad-4b2d-f81a-27db53118afd"
      },
      "source": [
        "files.upload()\n",
        "df_ny_data = pd.read_csv('df_ny_data.csv', index_col = False)\n",
        "df_ny_data.head()"
      ],
      "execution_count": null,
      "outputs": [
        {
          "output_type": "execute_result",
          "data": {
            "text/html": [
              "<div>\n",
              "<style scoped>\n",
              "    .dataframe tbody tr th:only-of-type {\n",
              "        vertical-align: middle;\n",
              "    }\n",
              "\n",
              "    .dataframe tbody tr th {\n",
              "        vertical-align: top;\n",
              "    }\n",
              "\n",
              "    .dataframe thead th {\n",
              "        text-align: right;\n",
              "    }\n",
              "</style>\n",
              "<table border=\"1\" class=\"dataframe\">\n",
              "  <thead>\n",
              "    <tr style=\"text-align: right;\">\n",
              "      <th></th>\n",
              "      <th>Density</th>\n",
              "      <th>neighbor_entropy</th>\n",
              "      <th>competitiveness</th>\n",
              "      <th>other_food_neighbor</th>\n",
              "      <th>food_neighbor_rate</th>\n",
              "      <th>residence_venue</th>\n",
              "      <th>comments</th>\n",
              "      <th>ratings</th>\n",
              "      <th>total_compet_rate</th>\n",
              "      <th>weight_comment</th>\n",
              "    </tr>\n",
              "  </thead>\n",
              "  <tbody>\n",
              "    <tr>\n",
              "      <th>0</th>\n",
              "      <td>41.0</td>\n",
              "      <td>2.466631</td>\n",
              "      <td>-0.268293</td>\n",
              "      <td>25</td>\n",
              "      <td>0.609756</td>\n",
              "      <td>3</td>\n",
              "      <td>318</td>\n",
              "      <td>3.3</td>\n",
              "      <td>0.878049</td>\n",
              "      <td>1049.4</td>\n",
              "    </tr>\n",
              "    <tr>\n",
              "      <th>1</th>\n",
              "      <td>43.0</td>\n",
              "      <td>3.150678</td>\n",
              "      <td>-0.186047</td>\n",
              "      <td>29</td>\n",
              "      <td>0.674419</td>\n",
              "      <td>2</td>\n",
              "      <td>622</td>\n",
              "      <td>3.7</td>\n",
              "      <td>0.860465</td>\n",
              "      <td>2301.4</td>\n",
              "    </tr>\n",
              "    <tr>\n",
              "      <th>2</th>\n",
              "      <td>26.0</td>\n",
              "      <td>2.971377</td>\n",
              "      <td>-0.230769</td>\n",
              "      <td>20</td>\n",
              "      <td>0.769231</td>\n",
              "      <td>5</td>\n",
              "      <td>1644</td>\n",
              "      <td>3.8</td>\n",
              "      <td>1.000000</td>\n",
              "      <td>6247.2</td>\n",
              "    </tr>\n",
              "    <tr>\n",
              "      <th>3</th>\n",
              "      <td>26.0</td>\n",
              "      <td>2.971377</td>\n",
              "      <td>-0.230769</td>\n",
              "      <td>20</td>\n",
              "      <td>0.769231</td>\n",
              "      <td>5</td>\n",
              "      <td>1644</td>\n",
              "      <td>3.8</td>\n",
              "      <td>1.000000</td>\n",
              "      <td>6247.2</td>\n",
              "    </tr>\n",
              "    <tr>\n",
              "      <th>4</th>\n",
              "      <td>15.0</td>\n",
              "      <td>2.488328</td>\n",
              "      <td>-0.200000</td>\n",
              "      <td>8</td>\n",
              "      <td>0.533333</td>\n",
              "      <td>5</td>\n",
              "      <td>652</td>\n",
              "      <td>3.9</td>\n",
              "      <td>0.733333</td>\n",
              "      <td>2542.8</td>\n",
              "    </tr>\n",
              "  </tbody>\n",
              "</table>\n",
              "</div>"
            ],
            "text/plain": [
              "   Density  neighbor_entropy  competitiveness  other_food_neighbor  \\\n",
              "0     41.0          2.466631        -0.268293                   25   \n",
              "1     43.0          3.150678        -0.186047                   29   \n",
              "2     26.0          2.971377        -0.230769                   20   \n",
              "3     26.0          2.971377        -0.230769                   20   \n",
              "4     15.0          2.488328        -0.200000                    8   \n",
              "\n",
              "   food_neighbor_rate  residence_venue  comments  ratings  total_compet_rate  \\\n",
              "0            0.609756                3       318      3.3           0.878049   \n",
              "1            0.674419                2       622      3.7           0.860465   \n",
              "2            0.769231                5      1644      3.8           1.000000   \n",
              "3            0.769231                5      1644      3.8           1.000000   \n",
              "4            0.533333                5       652      3.9           0.733333   \n",
              "\n",
              "   weight_comment  \n",
              "0          1049.4  \n",
              "1          2301.4  \n",
              "2          6247.2  \n",
              "3          6247.2  \n",
              "4          2542.8  "
            ]
          },
          "metadata": {
            "tags": []
          },
          "execution_count": 6
        }
      ]
    },
    {
      "cell_type": "code",
      "metadata": {
        "id": "dgFm3RGeVx_o",
        "colab_type": "code",
        "colab": {
          "resources": {
            "http://localhost:8080/nbextensions/google.colab/files.js": {
              "data": "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",
              "ok": true,
              "headers": [
                [
                  "content-type",
                  "application/javascript"
                ]
              ],
              "status": 200,
              "status_text": ""
            }
          },
          "base_uri": "https://localhost:8080/",
          "height": 251
        },
        "outputId": "95f36b57-f80b-4245-c1c5-25d1c7239f5b"
      },
      "source": [
        "files.upload()\n",
        "df_to_data = pd.read_csv('df_to_data.csv', index_col = False)\n",
        "df_to_data.head()"
      ],
      "execution_count": null,
      "outputs": [
        {
          "output_type": "display_data",
          "data": {
            "text/html": [
              "\n",
              "     <input type=\"file\" id=\"files-3314a09c-9b2b-47cd-89f2-e1c2eb5b89ae\" name=\"files[]\" multiple disabled\n",
              "        style=\"border:none\" />\n",
              "     <output id=\"result-3314a09c-9b2b-47cd-89f2-e1c2eb5b89ae\">\n",
              "      Upload widget is only available when the cell has been executed in the\n",
              "      current browser session. Please rerun this cell to enable.\n",
              "      </output>\n",
              "      <script src=\"/nbextensions/google.colab/files.js\"></script> "
            ],
            "text/plain": [
              "<IPython.core.display.HTML object>"
            ]
          },
          "metadata": {
            "tags": []
          }
        },
        {
          "output_type": "stream",
          "text": [
            "Saving df_to_data.csv to df_to_data.csv\n"
          ],
          "name": "stdout"
        },
        {
          "output_type": "execute_result",
          "data": {
            "text/html": [
              "<div>\n",
              "<style scoped>\n",
              "    .dataframe tbody tr th:only-of-type {\n",
              "        vertical-align: middle;\n",
              "    }\n",
              "\n",
              "    .dataframe tbody tr th {\n",
              "        vertical-align: top;\n",
              "    }\n",
              "\n",
              "    .dataframe thead th {\n",
              "        text-align: right;\n",
              "    }\n",
              "</style>\n",
              "<table border=\"1\" class=\"dataframe\">\n",
              "  <thead>\n",
              "    <tr style=\"text-align: right;\">\n",
              "      <th></th>\n",
              "      <th>Density</th>\n",
              "      <th>neighbor_entropy</th>\n",
              "      <th>competitiveness</th>\n",
              "      <th>other_food_neighbor</th>\n",
              "      <th>food_neighbor_rate</th>\n",
              "      <th>residence_venue</th>\n",
              "      <th>comments</th>\n",
              "      <th>ratings</th>\n",
              "      <th>weight_comment</th>\n",
              "      <th>total_compet_rate</th>\n",
              "    </tr>\n",
              "  </thead>\n",
              "  <tbody>\n",
              "    <tr>\n",
              "      <th>0</th>\n",
              "      <td>4.0</td>\n",
              "      <td>1.386294</td>\n",
              "      <td>-0.250000</td>\n",
              "      <td>1</td>\n",
              "      <td>0.250000</td>\n",
              "      <td>0</td>\n",
              "      <td>2472</td>\n",
              "      <td>3.5</td>\n",
              "      <td>8652.0</td>\n",
              "      <td>0.500000</td>\n",
              "    </tr>\n",
              "    <tr>\n",
              "      <th>1</th>\n",
              "      <td>2.0</td>\n",
              "      <td>0.693147</td>\n",
              "      <td>-0.500000</td>\n",
              "      <td>0</td>\n",
              "      <td>0.000000</td>\n",
              "      <td>0</td>\n",
              "      <td>1347</td>\n",
              "      <td>3.1</td>\n",
              "      <td>4175.7</td>\n",
              "      <td>0.500000</td>\n",
              "    </tr>\n",
              "    <tr>\n",
              "      <th>2</th>\n",
              "      <td>10.0</td>\n",
              "      <td>2.302585</td>\n",
              "      <td>-0.200000</td>\n",
              "      <td>4</td>\n",
              "      <td>0.400000</td>\n",
              "      <td>0</td>\n",
              "      <td>1816</td>\n",
              "      <td>3.6</td>\n",
              "      <td>6537.6</td>\n",
              "      <td>0.600000</td>\n",
              "    </tr>\n",
              "    <tr>\n",
              "      <th>3</th>\n",
              "      <td>9.0</td>\n",
              "      <td>2.197225</td>\n",
              "      <td>-0.222222</td>\n",
              "      <td>4</td>\n",
              "      <td>0.444444</td>\n",
              "      <td>0</td>\n",
              "      <td>160</td>\n",
              "      <td>2.9</td>\n",
              "      <td>464.0</td>\n",
              "      <td>0.666667</td>\n",
              "    </tr>\n",
              "    <tr>\n",
              "      <th>4</th>\n",
              "      <td>12.0</td>\n",
              "      <td>2.369382</td>\n",
              "      <td>-0.333333</td>\n",
              "      <td>8</td>\n",
              "      <td>0.666667</td>\n",
              "      <td>0</td>\n",
              "      <td>898</td>\n",
              "      <td>3.6</td>\n",
              "      <td>3232.8</td>\n",
              "      <td>1.000000</td>\n",
              "    </tr>\n",
              "  </tbody>\n",
              "</table>\n",
              "</div>"
            ],
            "text/plain": [
              "   Density  neighbor_entropy  competitiveness  other_food_neighbor  \\\n",
              "0      4.0          1.386294        -0.250000                    1   \n",
              "1      2.0          0.693147        -0.500000                    0   \n",
              "2     10.0          2.302585        -0.200000                    4   \n",
              "3      9.0          2.197225        -0.222222                    4   \n",
              "4     12.0          2.369382        -0.333333                    8   \n",
              "\n",
              "   food_neighbor_rate  residence_venue  comments  ratings  weight_comment  \\\n",
              "0            0.250000                0      2472      3.5          8652.0   \n",
              "1            0.000000                0      1347      3.1          4175.7   \n",
              "2            0.400000                0      1816      3.6          6537.6   \n",
              "3            0.444444                0       160      2.9           464.0   \n",
              "4            0.666667                0       898      3.6          3232.8   \n",
              "\n",
              "   total_compet_rate  \n",
              "0           0.500000  \n",
              "1           0.500000  \n",
              "2           0.600000  \n",
              "3           0.666667  \n",
              "4           1.000000  "
            ]
          },
          "metadata": {
            "tags": []
          },
          "execution_count": 12
        }
      ]
    },
    {
      "cell_type": "code",
      "metadata": {
        "id": "GS7v7CrgTH-w",
        "colab_type": "code",
        "colab": {
          "base_uri": "https://localhost:8080/",
          "height": 34
        },
        "outputId": "6fd66fcb-4781-4fb3-af91-7ada9e95bd54"
      },
      "source": [
        "# In this cell, define the models and preprocessing function\n",
        "from sklearn.linear_model import LinearRegression, Lasso, Ridge\n",
        "from sklearn.svm import SVR\n",
        "from sklearn.tree import DecisionTreeRegressor\n",
        "from sklearn.neural_network import MLPRegressor\n",
        "from sklearn.preprocessing import MinMaxScaler\n",
        "from sklearn.metrics import ndcg_score\n",
        "\n",
        "print('Candidate models loaded.')\n",
        "\n",
        "#Test the efficiency of each feature, assess the performance\n",
        "# Define metrics\n",
        "from scipy.stats import rankdata\n",
        "import random\n",
        "from numpy.random import permutation\n",
        "\n",
        "scaler = MinMaxScaler()\n",
        "\n",
        "def preprocessing(df, feature, degree, interaction_only = False):\n",
        "    # create training features, scaling, and target value\n",
        "    # df: dataframe containing all features and target\n",
        "    # degree: degree for polynomial features\n",
        "    # feature: list containing selected feature for training\n",
        "    # return: poly_feature, y_true (2D shape)\n",
        "\n",
        "    df_y = df['comments'].values.reshape(-1, 1)\n",
        "\n",
        "    if len(feature) == 1:\n",
        "       df_x = df[feature].values.reshape(-1, 1)\n",
        "    else:\n",
        "       df_x = df[feature]\n",
        "    \n",
        "    #scaling\n",
        "    scaler = MinMaxScaler()\n",
        "    df_x = scaler.fit_transform(df_x)\n",
        "    df_y = scaler.fit_transform(df_y)\n",
        "\n",
        "    # Create polynomial feature\n",
        "    x_data = df_x\n",
        "    poly = PolynomialFeatures(degree = degree, interaction_only = interaction_only) # require 2D input\n",
        "    poly_x = poly.fit_transform(x_data)\n",
        "    y_data = df_y.reshape(-1, 1)\n",
        "\n",
        "    return poly_x, y_data\n",
        "\n"
      ],
      "execution_count": null,
      "outputs": [
        {
          "output_type": "stream",
          "text": [
            "Candidate models loaded.\n"
          ],
          "name": "stdout"
        }
      ]
    },
    {
      "cell_type": "code",
      "metadata": {
        "id": "w8Cp3MMWTfpW",
        "colab_type": "code",
        "colab": {
          "base_uri": "https://localhost:8080/",
          "height": 84
        },
        "outputId": "aea498f2-668b-4f9c-9cd1-aa3f7f3c93f4"
      },
      "source": [
        "# Combine multiple geographic features\n",
        "features = ['Density', 'competitiveness', 'other_food_neighbor', 'food_neighbor_rate', 'total_compet_rate']\n",
        "poly_x, y_data = preprocessing(df_ny_data, features, 20, False)\n",
        "\n",
        "lr = Ridge(alpha = 0.01)\n",
        "mean_score = 0\n",
        "mean_rand_score = 0\n",
        "iterations = 1000\n",
        "\n",
        "test_size = 0.12\n",
        "print('Training size:', int(poly_x.shape[0]*(1 - test_size) ))\n",
        "print('Testing size:', int(len(y_data)*test_size))\n",
        "\n",
        "for iterate in range(iterations):\n",
        "    x_train, x_test, y_train, y_test = train_test_split(poly_x, y_data, test_size = test_size)\n",
        "\n",
        "    lr.fit(x_train, y_train)\n",
        "    predict_score = lr.predict(x_test)\n",
        "    \n",
        "    score = ndcg_score([list(y_test.flatten())], [list(predict_score.flatten())], 3)\n",
        "    mean_score += score\n",
        "\n",
        "    rand_score = [np.random.uniform(y_test.min(), y_test.max()) for i in range(len(y_test))]\n",
        "    rand_score = ndcg_score([list(y_test.flatten())], [rand_score], 3)\n",
        "    mean_rand_score += rand_score  \n",
        "    \n",
        "mean_score = mean_score / iterations\n",
        "mean_rand_score = mean_rand_score/ iterations\n",
        "print('Mean score = ', mean_score)\n",
        "print('Random rank score = ', mean_rand_score)"
      ],
      "execution_count": null,
      "outputs": [
        {
          "output_type": "stream",
          "text": [
            "Training size: 44\n",
            "Testing size: 6\n",
            "Mean score =  0.7894367780541077\n",
            "Random rank score =  0.6959919375642509\n"
          ],
          "name": "stdout"
        }
      ]
    },
    {
      "cell_type": "code",
      "metadata": {
        "id": "5iycNI0CTuEk",
        "colab_type": "code",
        "colab": {
          "base_uri": "https://localhost:8080/",
          "height": 77
        },
        "outputId": "f52c5fa9-6ea0-49ba-9448-a5802fd0e0ba"
      },
      "source": [
        "columns = ['LR', 'DecisionTree', 'SVR', 'Neural Net']\n",
        "df_combine_perform = pd.DataFrame(index = ['NDCG@k of combine features'], columns = columns)\n",
        "df_combine_perform.iloc[0]['LR'] = mean_score\n",
        "df_combine_perform"
      ],
      "execution_count": null,
      "outputs": [
        {
          "output_type": "execute_result",
          "data": {
            "text/html": [
              "<div>\n",
              "<style scoped>\n",
              "    .dataframe tbody tr th:only-of-type {\n",
              "        vertical-align: middle;\n",
              "    }\n",
              "\n",
              "    .dataframe tbody tr th {\n",
              "        vertical-align: top;\n",
              "    }\n",
              "\n",
              "    .dataframe thead th {\n",
              "        text-align: right;\n",
              "    }\n",
              "</style>\n",
              "<table border=\"1\" class=\"dataframe\">\n",
              "  <thead>\n",
              "    <tr style=\"text-align: right;\">\n",
              "      <th></th>\n",
              "      <th>LR</th>\n",
              "      <th>DecisionTree</th>\n",
              "      <th>SVR</th>\n",
              "      <th>Neural Net</th>\n",
              "    </tr>\n",
              "  </thead>\n",
              "  <tbody>\n",
              "    <tr>\n",
              "      <th>NDCG@k of combine features</th>\n",
              "      <td>0.789437</td>\n",
              "      <td>NaN</td>\n",
              "      <td>NaN</td>\n",
              "      <td>NaN</td>\n",
              "    </tr>\n",
              "  </tbody>\n",
              "</table>\n",
              "</div>"
            ],
            "text/plain": [
              "                                  LR DecisionTree  SVR Neural Net\n",
              "NDCG@k of combine features  0.789437          NaN  NaN        NaN"
            ]
          },
          "metadata": {
            "tags": []
          },
          "execution_count": 18
        }
      ]
    },
    {
      "cell_type": "markdown",
      "metadata": {
        "id": "KaaaneYoUoht",
        "colab_type": "text"
      },
      "source": [
        "###The combined geographic features do not increase the performance significantly than the best result of individual feature.\n",
        "\n",
        "##We test the model on location data of another city: Toronto, to see if data features in another city represents similar information."
      ]
    },
    {
      "cell_type": "code",
      "metadata": {
        "id": "x3YVLxKcUlMv",
        "colab_type": "code",
        "colab": {
          "base_uri": "https://localhost:8080/",
          "height": 50
        },
        "outputId": "b11db718-f504-4cb1-dd90-30dafccb71d9"
      },
      "source": [
        "# test on toronto data\n",
        "lr = Ridge(alpha = 0.01)\n",
        "lr.fit(poly_x, y_data) # fit on whole new york data\n",
        "\n",
        "df_to_data['total_compet_rate'] = df_to_data['food_neighbor_rate'] - df_to_data['competitiveness']\n",
        "poly_x_to, y_data_to = preprocessing(df_to_data, features, 20)\n",
        "y_pred = lr.predict(poly_x_to)\n",
        "score = ndcg_score([list(y_data_to.flatten())], [list(y_pred.flatten())], 10)\n",
        "print('Predict score on toronto:', score)\n",
        "\n",
        "rand_score = [np.random.uniform(0, 1) for i in range(len(y_data_to))]\n",
        "rand_score = ndcg_score([list(y_data_to.flatten())], [rand_score], 10)\n",
        "print('Random score:', rand_score)  "
      ],
      "execution_count": null,
      "outputs": [
        {
          "output_type": "stream",
          "text": [
            "Predict score on toronto: 0.5699437154752105\n",
            "Random score: 0.5591066913600066\n"
          ],
          "name": "stdout"
        }
      ]
    },
    {
      "cell_type": "markdown",
      "metadata": {
        "id": "9t6WMuxfU7vl",
        "colab_type": "text"
      },
      "source": [
        "###Model in New york data don't work well on Toronto data. It seems venue data information within one city couldn't be applied on another city directly.\n",
        "\n",
        "###Now, we compare the performance of different models on the combined features"
      ]
    },
    {
      "cell_type": "code",
      "metadata": {
        "id": "3L09zcDdUo45",
        "colab_type": "code",
        "colab": {
          "base_uri": "https://localhost:8080/",
          "height": 202
        },
        "outputId": "24b846b4-246f-44fb-cb2e-8a7b44650976"
      },
      "source": [
        "features = ['total_compet_rate', 'residence_venue', 'Density', 'competitiveness', 'neighbor_entropy']\n",
        "poly_x, y_data = preprocessing(df_ny_data, features, 1)\n",
        "\n",
        "regressor = DecisionTreeRegressor(max_depth = 30)\n",
        "\n",
        "mean_score = 0\n",
        "mean_rand_score = 0\n",
        "\n",
        "print('Train size:', int(poly_x.shape[0]*(1- test_size) ))\n",
        "print('Test size: ', int(len(y_data)*test_size))\n",
        "\n",
        "iterations = 1000\n",
        "for iterate in range(iterations):\n",
        "    x_train, x_test, y_train, y_test = train_test_split(poly_x, y_data, test_size = 0.12)\n",
        "\n",
        "    regressor.fit(x_train, y_train)\n",
        "    predict_score = regressor.predict(x_test)\n",
        "    \n",
        "    score = ndcg_score([list(y_test.flatten())], [list(predict_score.flatten())], 3)\n",
        "    mean_score += score\n",
        "\n",
        "    rand_score = [np.random.uniform(y_test.min(), y_test.max()) for i in range(len(y_test))]\n",
        "    rand_score = ndcg_score([list(y_test.flatten())], [rand_score], 3)\n",
        "    mean_rand_score += rand_score\n",
        "    \n",
        "    \n",
        "mean_score = mean_score / iterations\n",
        "mean_rand_score = mean_rand_score/ iterations\n",
        "print('Mean score = ', mean_score)\n",
        "print('Random rank score = ', mean_rand_score)\n",
        "\n",
        "df_combine_perform.loc[0, 'DecisionTree'] = mean_score\n",
        "\n",
        "feature_importance = pd.DataFrame(index = ['Feature Importance'], columns = features)\n",
        "\n",
        "for i in range(len(features)):\n",
        "  feature_importance.iloc[0, i] = regressor.feature_importances_[i]\n",
        "\n",
        "print('Feature importance defined by decision tree: ')\n",
        "print(feature_importance.transpose().sort_values(by = 'Feature Importance', ascending = False))"
      ],
      "execution_count": null,
      "outputs": [
        {
          "output_type": "stream",
          "text": [
            "Train size: 44\n",
            "Test size:  6\n",
            "Mean score =  0.7133253262088121\n",
            "Random rank score =  0.704634887048053\n",
            "Feature importance defined by decision tree: \n",
            "                  Feature Importance\n",
            "neighbor_entropy             0.36491\n",
            "Density                     0.327644\n",
            "residence_venue            0.0877319\n",
            "competitiveness            0.0671991\n",
            "total_compet_rate                  0\n"
          ],
          "name": "stdout"
        }
      ]
    },
    {
      "cell_type": "markdown",
      "metadata": {
        "id": "XgVHfW0sYOQw",
        "colab_type": "text"
      },
      "source": [
        "###The combined features don't improve significantly. However, the feature importance defined by decision tree show interesting result. We expect total_compet_rate and Density to have higher importance, however neighbor_entropy and residence_venue gets good score.\n",
        "\n",
        "###The factor that influence a retail store's location is: consumer behavior, area popularity, and competitiveness. \n",
        "###Popularity: Density and residence venue \n",
        "###Competitiveness: Total_compet_rate, comptetitiveness "
      ]
    },
    {
      "cell_type": "code",
      "metadata": {
        "id": "gctOPJttVONT",
        "colab_type": "code",
        "colab": {
          "base_uri": "https://localhost:8080/",
          "height": 151
        },
        "outputId": "b536da60-4bcd-4913-bcc9-83b2218989d5"
      },
      "source": [
        "features = ['competitiveness', 'residence_venue']\n",
        "poly_x, y_data = preprocessing(df_ny_data, features, 1)\n",
        "\n",
        "regressor = DecisionTreeRegressor(max_depth = 30)\n",
        "\n",
        "mean_score = 0\n",
        "mean_rand_score = 0\n",
        "\n",
        "print('Train size:', int(poly_x.shape[0]*(1- test_size) ))\n",
        "print('Test size: ', int(len(y_data)*test_size))\n",
        "\n",
        "iterations = 1000\n",
        "for iterate in range(iterations):\n",
        "    x_train, x_test, y_train, y_test = train_test_split(poly_x, y_data, test_size = 0.12)\n",
        "\n",
        "    regressor.fit(x_train, y_train)\n",
        "    predict_score = regressor.predict(x_test)\n",
        "    \n",
        "    score = ndcg_score([list(y_test.flatten())], [list(predict_score.flatten())], 3)\n",
        "    mean_score += score\n",
        "\n",
        "    rand_score = [np.random.uniform(y_test.min(), y_test.max()) for i in range(len(y_test))]\n",
        "    rand_score = ndcg_score([list(y_test.flatten())], [rand_score], 3)\n",
        "    mean_rand_score += rand_score\n",
        "    \n",
        "    \n",
        "mean_score = mean_score / iterations\n",
        "mean_rand_score = mean_rand_score/ iterations\n",
        "print('Mean score = ', mean_score)\n",
        "print('Random rank score = ', mean_rand_score)\n",
        "\n",
        "df_combine_perform['DecisionTree'] = mean_score\n",
        "\n",
        "feature_importance = pd.DataFrame(index = ['Feature Importance'], columns = features)\n",
        "\n",
        "for i in range(len(features)):\n",
        "  feature_importance.iloc[0, i] = regressor.feature_importances_[i]\n",
        "\n",
        "print('Feature importance defined by decision tree: ')\n",
        "print(feature_importance.transpose())"
      ],
      "execution_count": null,
      "outputs": [
        {
          "output_type": "stream",
          "text": [
            "Train size: 44\n",
            "Test size:  6\n",
            "Mean score =  0.7676976716344307\n",
            "Random rank score =  0.6976118379336727\n",
            "Feature importance defined by decision tree: \n",
            "                Feature Importance\n",
            "competitiveness                  0\n",
            "residence_venue           0.617949\n"
          ],
          "name": "stdout"
        }
      ]
    },
    {
      "cell_type": "markdown",
      "metadata": {
        "id": "2wpDhtK-ZfMB",
        "colab_type": "text"
      },
      "source": [
        "###Interestingly, for features representing popularity, residence_venue works better than Density. This is opposite from the result when we use Linear Regression.\n",
        "###As for the decision tree performance, the best result is obtained from single total_compet_rate feature. Since this might lack information of popularity, add popularity feature reduces the overall performance. We conclude the reason results from the small size of dataset.\n",
        "###Other than that, polynomial features seems useless in Decision Tree model. Using 1 degree polynomial features get the best result."
      ]
    },
    {
      "cell_type": "code",
      "metadata": {
        "id": "rA1oaGJ7VQ8y",
        "colab_type": "code",
        "colab": {
          "base_uri": "https://localhost:8080/",
          "height": 50
        },
        "outputId": "8aee4e43-6d4e-4221-f87b-bd11065084ee"
      },
      "source": [
        "from sklearn.svm import SVR\n",
        "\n",
        "svr = SVR(kernel = 'rbf', C = 0.01)\n",
        "\n",
        "poly_x, y_data = preprocessing(df_ny_data, ['neighbor_entropy'], 1)\n",
        "\n",
        "mean_score = 0\n",
        "mean_rand_score = 0\n",
        "\n",
        "iterations = 1000\n",
        "for iterate in range(iterations):\n",
        "    x_train, x_test, y_train, y_test = train_test_split(poly_x, y_data, test_size = 0.12)\n",
        "\n",
        "    y_train = y_train.flatten()    \n",
        "    svr.fit(x_train, y_train)\n",
        "    predict_score = svr.predict(x_test)\n",
        "    \n",
        "    score = ndcg_score([list(y_test.flatten())], [list(predict_score.flatten())], 4)\n",
        "    mean_score += score\n",
        "\n",
        "    rand_score = [np.random.uniform(y_test.min(), y_test.max()) for i in range(len(y_test))]\n",
        "    rand_score = ndcg_score([list(y_test.flatten())], [rand_score], 4)\n",
        "    mean_rand_score += rand_score\n",
        "    \n",
        "\n",
        "mean_score = mean_score / iterations\n",
        "mean_rand_score = mean_rand_score/ iterations\n",
        "print('Mean score = ', mean_score)\n",
        "print('Random rank score = ', mean_rand_score)"
      ],
      "execution_count": null,
      "outputs": [
        {
          "output_type": "stream",
          "text": [
            "Mean score =  0.7348566085441478\n",
            "Random rank score =  0.7542253012144078\n"
          ],
          "name": "stdout"
        }
      ]
    },
    {
      "cell_type": "code",
      "metadata": {
        "id": "57rTz5j-diYy",
        "colab_type": "code",
        "colab": {
          "base_uri": "https://localhost:8080/",
          "height": 77
        },
        "outputId": "f3644be7-3e48-42a3-f441-bb6302a661cd"
      },
      "source": [
        "df_combine_perform['SVR'] = mean_score\n",
        "df_combine_perform"
      ],
      "execution_count": null,
      "outputs": [
        {
          "output_type": "execute_result",
          "data": {
            "text/html": [
              "<div>\n",
              "<style scoped>\n",
              "    .dataframe tbody tr th:only-of-type {\n",
              "        vertical-align: middle;\n",
              "    }\n",
              "\n",
              "    .dataframe tbody tr th {\n",
              "        vertical-align: top;\n",
              "    }\n",
              "\n",
              "    .dataframe thead th {\n",
              "        text-align: right;\n",
              "    }\n",
              "</style>\n",
              "<table border=\"1\" class=\"dataframe\">\n",
              "  <thead>\n",
              "    <tr style=\"text-align: right;\">\n",
              "      <th></th>\n",
              "      <th>LR</th>\n",
              "      <th>DecisionTree</th>\n",
              "      <th>SVR</th>\n",
              "      <th>Neural Net</th>\n",
              "    </tr>\n",
              "  </thead>\n",
              "  <tbody>\n",
              "    <tr>\n",
              "      <th>NDCG@k of combine features</th>\n",
              "      <td>0.789437</td>\n",
              "      <td>0.767698</td>\n",
              "      <td>0.813482</td>\n",
              "      <td>NaN</td>\n",
              "    </tr>\n",
              "  </tbody>\n",
              "</table>\n",
              "</div>"
            ],
            "text/plain": [
              "                                  LR  DecisionTree       SVR Neural Net\n",
              "NDCG@k of combine features  0.789437      0.767698  0.813482        NaN"
            ]
          },
          "metadata": {
            "tags": []
          },
          "execution_count": 22
        }
      ]
    },
    {
      "cell_type": "code",
      "metadata": {
        "id": "HLDsLZfsVTP0",
        "colab_type": "code",
        "colab": {
          "base_uri": "https://localhost:8080/",
          "height": 50
        },
        "outputId": "9509aa4b-d217-404d-f53f-f971c5327572"
      },
      "source": [
        "#define nn\n",
        "from sklearn.neural_network import MLPRegressor\n",
        "import sklearn.neural_network as nn\n",
        "\n",
        "hidden_size = (100)\n",
        "\n",
        "feature = ['total_compet_rate', 'Density']\n",
        "\n",
        "nn = MLPRegressor(\n",
        "    hidden_size,\n",
        "    'relu',\n",
        "    'adam',\n",
        "    learning_rate_init = 0.01,\n",
        "    max_iter = 1000\n",
        ")\n",
        "\n",
        "poly_x, y_data = preprocessing(df_ny_data, feature, 10)\n",
        "\n",
        "mean_score = 0\n",
        "mean_rand_score = 0\n",
        "\n",
        "iterations = 1000\n",
        "for iterate in range(iterations):\n",
        "    x_train, x_test, y_train, y_test = train_test_split(poly_x, y_data, test_size = 0.12)\n",
        "\n",
        "    y_train = y_train.flatten()    \n",
        "    nn.fit(x_train, y_train)\n",
        "    predict_score = nn.predict(x_test)\n",
        "    \n",
        "    score = ndcg_score([list(y_test.flatten())], [list(predict_score.flatten())], 4)\n",
        "    mean_score += score\n",
        "\n",
        "    rand_score = [np.random.uniform(-1, 1) for i in range(len(y_test))]\n",
        "    rand_score = ndcg_score([list(y_test.flatten())], [rand_score], 4)\n",
        "    mean_rand_score += rand_score\n",
        "    \n",
        "\n",
        "mean_score = mean_score / iterations\n",
        "mean_rand_score = mean_rand_score/ iterations\n",
        "print('Mean score = ', mean_score)\n",
        "print('Random rank score = ', mean_rand_score)\n"
      ],
      "execution_count": null,
      "outputs": [
        {
          "output_type": "stream",
          "text": [
            "Mean score =  0.8176415739073725\n",
            "Random rank score =  0.7380976633281107\n"
          ],
          "name": "stdout"
        }
      ]
    },
    {
      "cell_type": "code",
      "metadata": {
        "id": "TSwj8caMds_m",
        "colab_type": "code",
        "colab": {
          "base_uri": "https://localhost:8080/",
          "height": 77
        },
        "outputId": "48b8ae23-8eca-45ef-9d73-3cc6bf60bdc7"
      },
      "source": [
        "df_combine_perform['Neural Net'] = mean_score\n",
        "df_combine_perform"
      ],
      "execution_count": null,
      "outputs": [
        {
          "output_type": "execute_result",
          "data": {
            "text/html": [
              "<div>\n",
              "<style scoped>\n",
              "    .dataframe tbody tr th:only-of-type {\n",
              "        vertical-align: middle;\n",
              "    }\n",
              "\n",
              "    .dataframe tbody tr th {\n",
              "        vertical-align: top;\n",
              "    }\n",
              "\n",
              "    .dataframe thead th {\n",
              "        text-align: right;\n",
              "    }\n",
              "</style>\n",
              "<table border=\"1\" class=\"dataframe\">\n",
              "  <thead>\n",
              "    <tr style=\"text-align: right;\">\n",
              "      <th></th>\n",
              "      <th>LR</th>\n",
              "      <th>DecisionTree</th>\n",
              "      <th>SVR</th>\n",
              "      <th>Neural Net</th>\n",
              "    </tr>\n",
              "  </thead>\n",
              "  <tbody>\n",
              "    <tr>\n",
              "      <th>NDCG@k of combine features</th>\n",
              "      <td>0.789437</td>\n",
              "      <td>0.767698</td>\n",
              "      <td>0.813482</td>\n",
              "      <td>0.812825</td>\n",
              "    </tr>\n",
              "  </tbody>\n",
              "</table>\n",
              "</div>"
            ],
            "text/plain": [
              "                                  LR  DecisionTree       SVR  Neural Net\n",
              "NDCG@k of combine features  0.789437      0.767698  0.813482    0.812825"
            ]
          },
          "metadata": {
            "tags": []
          },
          "execution_count": 24
        }
      ]
    },
    {
      "cell_type": "code",
      "metadata": {
        "id": "clLZhwqMhD4_",
        "colab_type": "code",
        "colab": {
          "base_uri": "https://localhost:8080/",
          "height": 101
        },
        "outputId": "7541eb42-411a-4e07-e684-6fbc88cb9f94"
      },
      "source": [
        "print(df_combine_perform.transpose().sort_values(by = 'NDCG@k of combine features', ascending = False))"
      ],
      "execution_count": null,
      "outputs": [
        {
          "output_type": "stream",
          "text": [
            "             NDCG@k of combine features\n",
            "SVR                            0.813482\n",
            "Neural Net                     0.812825\n",
            "LR                             0.789437\n",
            "DecisionTree                   0.767698\n"
          ],
          "name": "stdout"
        }
      ]
    },
    {
      "cell_type": "code",
      "metadata": {
        "id": "c4mbucwdn8xv",
        "colab_type": "code",
        "colab": {
          "base_uri": "https://localhost:8080/",
          "height": 195
        },
        "outputId": "f8a8557f-46a3-4434-89f0-ae216c7ab874"
      },
      "source": [
        "index = ['total_compet_rate', 'total_compet + residence_venue', 'total_compet + Density', 'total_compet + residence_venue + Density', 'total_compet + residence_venue + Density + competitiveness']\n",
        "df_performance = pd.DataFrame(index = index, columns = df_combine_perform.columns)\n",
        "df_performance"
      ],
      "execution_count": null,
      "outputs": [
        {
          "output_type": "execute_result",
          "data": {
            "text/html": [
              "<div>\n",
              "<style scoped>\n",
              "    .dataframe tbody tr th:only-of-type {\n",
              "        vertical-align: middle;\n",
              "    }\n",
              "\n",
              "    .dataframe tbody tr th {\n",
              "        vertical-align: top;\n",
              "    }\n",
              "\n",
              "    .dataframe thead th {\n",
              "        text-align: right;\n",
              "    }\n",
              "</style>\n",
              "<table border=\"1\" class=\"dataframe\">\n",
              "  <thead>\n",
              "    <tr style=\"text-align: right;\">\n",
              "      <th></th>\n",
              "      <th>LR</th>\n",
              "      <th>DecisionTree</th>\n",
              "      <th>SVR</th>\n",
              "      <th>Neural Net</th>\n",
              "    </tr>\n",
              "  </thead>\n",
              "  <tbody>\n",
              "    <tr>\n",
              "      <th>total_compet_rate</th>\n",
              "      <td>NaN</td>\n",
              "      <td>NaN</td>\n",
              "      <td>NaN</td>\n",
              "      <td>NaN</td>\n",
              "    </tr>\n",
              "    <tr>\n",
              "      <th>total_compet + residence_venue</th>\n",
              "      <td>NaN</td>\n",
              "      <td>NaN</td>\n",
              "      <td>NaN</td>\n",
              "      <td>NaN</td>\n",
              "    </tr>\n",
              "    <tr>\n",
              "      <th>total_compet + Density</th>\n",
              "      <td>NaN</td>\n",
              "      <td>NaN</td>\n",
              "      <td>NaN</td>\n",
              "      <td>NaN</td>\n",
              "    </tr>\n",
              "    <tr>\n",
              "      <th>total_compet + residence_venue + Density</th>\n",
              "      <td>NaN</td>\n",
              "      <td>NaN</td>\n",
              "      <td>NaN</td>\n",
              "      <td>NaN</td>\n",
              "    </tr>\n",
              "    <tr>\n",
              "      <th>total_compet + residence_venue + Density + competitiveness</th>\n",
              "      <td>NaN</td>\n",
              "      <td>NaN</td>\n",
              "      <td>NaN</td>\n",
              "      <td>NaN</td>\n",
              "    </tr>\n",
              "  </tbody>\n",
              "</table>\n",
              "</div>"
            ],
            "text/plain": [
              "                                                             LR DecisionTree  \\\n",
              "total_compet_rate                                           NaN          NaN   \n",
              "total_compet + residence_venue                              NaN          NaN   \n",
              "total_compet + Density                                      NaN          NaN   \n",
              "total_compet + residence_venue + Density                    NaN          NaN   \n",
              "total_compet + residence_venue + Density + competitiveness  NaN          NaN   \n",
              "\n",
              "                                                            SVR Neural Net  \n",
              "total_compet_rate                                           NaN        NaN  \n",
              "total_compet + residence_venue                              NaN        NaN  \n",
              "total_compet + Density                                      NaN        NaN  \n",
              "total_compet + residence_venue + Density                    NaN        NaN  \n",
              "total_compet + residence_venue + Density + competitiveness  NaN        NaN  "
            ]
          },
          "metadata": {
            "tags": []
          },
          "execution_count": 32
        }
      ]
    },
    {
      "cell_type": "code",
      "metadata": {
        "id": "aJvHTiXgpjet",
        "colab_type": "code",
        "colab": {
          "base_uri": "https://localhost:8080/",
          "height": 195
        },
        "outputId": "a87c2a4d-30b9-4149-ef05-56b761997efd"
      },
      "source": [
        "df = df_performance.copy()\n",
        "df.loc['total_compet_rate'][0] = 22\n",
        "df"
      ],
      "execution_count": null,
      "outputs": [
        {
          "output_type": "execute_result",
          "data": {
            "text/html": [
              "<div>\n",
              "<style scoped>\n",
              "    .dataframe tbody tr th:only-of-type {\n",
              "        vertical-align: middle;\n",
              "    }\n",
              "\n",
              "    .dataframe tbody tr th {\n",
              "        vertical-align: top;\n",
              "    }\n",
              "\n",
              "    .dataframe thead th {\n",
              "        text-align: right;\n",
              "    }\n",
              "</style>\n",
              "<table border=\"1\" class=\"dataframe\">\n",
              "  <thead>\n",
              "    <tr style=\"text-align: right;\">\n",
              "      <th></th>\n",
              "      <th>LR</th>\n",
              "      <th>DecisionTree</th>\n",
              "      <th>SVR</th>\n",
              "      <th>Neural Net</th>\n",
              "    </tr>\n",
              "  </thead>\n",
              "  <tbody>\n",
              "    <tr>\n",
              "      <th>total_compet_rate</th>\n",
              "      <td>22</td>\n",
              "      <td>NaN</td>\n",
              "      <td>NaN</td>\n",
              "      <td>NaN</td>\n",
              "    </tr>\n",
              "    <tr>\n",
              "      <th>total_compet + residence_venue</th>\n",
              "      <td>NaN</td>\n",
              "      <td>NaN</td>\n",
              "      <td>NaN</td>\n",
              "      <td>NaN</td>\n",
              "    </tr>\n",
              "    <tr>\n",
              "      <th>total_compet + Density</th>\n",
              "      <td>NaN</td>\n",
              "      <td>NaN</td>\n",
              "      <td>NaN</td>\n",
              "      <td>NaN</td>\n",
              "    </tr>\n",
              "    <tr>\n",
              "      <th>total_compet + residence_venue + Density</th>\n",
              "      <td>NaN</td>\n",
              "      <td>NaN</td>\n",
              "      <td>NaN</td>\n",
              "      <td>NaN</td>\n",
              "    </tr>\n",
              "    <tr>\n",
              "      <th>total_compet + residence_venue + Density + competitiveness</th>\n",
              "      <td>NaN</td>\n",
              "      <td>NaN</td>\n",
              "      <td>NaN</td>\n",
              "      <td>NaN</td>\n",
              "    </tr>\n",
              "  </tbody>\n",
              "</table>\n",
              "</div>"
            ],
            "text/plain": [
              "                                                             LR DecisionTree  \\\n",
              "total_compet_rate                                            22          NaN   \n",
              "total_compet + residence_venue                              NaN          NaN   \n",
              "total_compet + Density                                      NaN          NaN   \n",
              "total_compet + residence_venue + Density                    NaN          NaN   \n",
              "total_compet + residence_venue + Density + competitiveness  NaN          NaN   \n",
              "\n",
              "                                                            SVR Neural Net  \n",
              "total_compet_rate                                           NaN        NaN  \n",
              "total_compet + residence_venue                              NaN        NaN  \n",
              "total_compet + Density                                      NaN        NaN  \n",
              "total_compet + residence_venue + Density                    NaN        NaN  \n",
              "total_compet + residence_venue + Density + competitiveness  NaN        NaN  "
            ]
          },
          "metadata": {
            "tags": []
          },
          "execution_count": 33
        }
      ]
    },
    {
      "cell_type": "code",
      "metadata": {
        "id": "Qmo0DLTUidtd",
        "colab_type": "code",
        "colab": {
          "base_uri": "https://localhost:8080/",
          "height": 151
        },
        "outputId": "e607c079-7b5b-4041-f26e-384ffbb8640a"
      },
      "source": [
        "feature = ['total_compet_rate']\n",
        "\n",
        "hidden_size = (100, 50)\n",
        "\n",
        "lr = Ridge(alpha = 0.01)\n",
        "tree = DecisionTreeRegressor(max_depth=30)\n",
        "svr = SVR(kernel='rbf', C = 0.01)\n",
        "nn = nn = MLPRegressor(\n",
        "     hidden_size,\n",
        "    'relu',\n",
        "    'adam',\n",
        "    learning_rate_init = 0.01,\n",
        "    max_iter = 1000\n",
        ")\n",
        "\n",
        "models = [lr, tree, svr, nn]\n",
        "ind = 1\n",
        "for model in models:\n",
        "  poly_x, y_data = preprocessing(df_ny_data, feature, 10)\n",
        "\n",
        "  mean_score = 0\n",
        "  mean_rand_score = 0\n",
        "\n",
        "  iterations = 1000\n",
        "  for iterate in range(iterations):\n",
        "      x_train, x_test, y_train, y_test = train_test_split(poly_x, y_data, test_size = 0.12)\n",
        "\n",
        "      y_train = y_train.flatten()    \n",
        "      model.fit(x_train, y_train)\n",
        "      predict_score = model.predict(x_test)\n",
        "    \n",
        "      score = ndcg_score([list(y_test.flatten())], [list(predict_score.flatten())], 4)\n",
        "      mean_score += score\n",
        "\n",
        "      rand_score = [np.random.uniform(-1, 1) for i in range(len(y_test))]\n",
        "      rand_score = ndcg_score([list(y_test.flatten())], [rand_score], 4)\n",
        "      mean_rand_score += rand_score\n",
        "    \n",
        "\n",
        "  mean_score = mean_score / iterations\n",
        "  mean_rand_score = mean_rand_score/ iterations\n",
        "  print('Mean score = ', mean_score)\n",
        "  print('Random rank score = ', mean_rand_score)\n",
        " \n",
        "  df_performance.loc['total_compet_rate'][ind - 1] = mean_score\n",
        "  ind += 1\n"
      ],
      "execution_count": null,
      "outputs": [
        {
          "output_type": "stream",
          "text": [
            "Mean score =  0.8282827131598964\n",
            "Random rank score =  0.7544181196461998\n",
            "Mean score =  0.8274825439332425\n",
            "Random rank score =  0.7495161336059888\n",
            "Mean score =  0.8443677051929939\n",
            "Random rank score =  0.7412178764721918\n",
            "Mean score =  0.8402199257893767\n",
            "Random rank score =  0.7421685751666126\n"
          ],
          "name": "stdout"
        }
      ]
    },
    {
      "cell_type": "code",
      "metadata": {
        "id": "N3S588VbqhcG",
        "colab_type": "code",
        "colab": {
          "base_uri": "https://localhost:8080/",
          "height": 151
        },
        "outputId": "d7b6659a-b974-4eb4-e5c9-eca2efed75c6"
      },
      "source": [
        "feature = ['total_compet_rate', 'residence_venue']\n",
        "\n",
        "hidden_size = (100, 50)\n",
        "\n",
        "lr = Ridge(alpha = 0.01)\n",
        "tree = DecisionTreeRegressor(max_depth=30)\n",
        "svr = SVR(kernel='rbf', C = 0.01)\n",
        "nn = nn = MLPRegressor(\n",
        "     hidden_size,\n",
        "    'relu',\n",
        "    'adam',\n",
        "    learning_rate_init = 0.01,\n",
        "    max_iter = 1000\n",
        ")\n",
        "\n",
        "models = [lr, tree, svr, nn]\n",
        "for i in range(len(models)):\n",
        "  # Decision tree and SVR don't need polynomial degree\n",
        "  if i == 1 or i == 2:\n",
        "    degree = 1\n",
        "  else:\n",
        "    degree = 10\n",
        "  poly_x, y_data = preprocessing(df_ny_data, feature, degree)\n",
        "\n",
        "  mean_score = 0\n",
        "  mean_rand_score = 0\n",
        "\n",
        "  iterations = 1000\n",
        "  for iterate in range(iterations):\n",
        "      x_train, x_test, y_train, y_test = train_test_split(poly_x, y_data, test_size = 0.12)\n",
        "\n",
        "      y_train = y_train.flatten()    \n",
        "      model.fit(x_train, y_train)\n",
        "      predict_score = model.predict(x_test)\n",
        "    \n",
        "      score = ndcg_score([list(y_test.flatten())], [list(predict_score.flatten())], 4)\n",
        "      mean_score += score\n",
        "\n",
        "      rand_score = [np.random.uniform(-1, 1) for i in range(len(y_test))]\n",
        "      rand_score = ndcg_score([list(y_test.flatten())], [rand_score], 4)\n",
        "      mean_rand_score += rand_score\n",
        "    \n",
        "\n",
        "  mean_score = mean_score / iterations\n",
        "  mean_rand_score = mean_rand_score/ iterations\n",
        "  print('Mean score = ', mean_score)\n",
        "  print('Random rank score = ', mean_rand_score)\n",
        " \n",
        "  df_performance.loc['total_compet + residence_venue'][i] = mean_score\n"
      ],
      "execution_count": null,
      "outputs": [
        {
          "output_type": "stream",
          "text": [
            "Mean score =  0.7866047375935289\n",
            "Random rank score =  0.7398403934682085\n",
            "Mean score =  0.8037788101272282\n",
            "Random rank score =  0.7484029342621792\n",
            "Mean score =  0.8068595761175302\n",
            "Random rank score =  0.7542074242264938\n",
            "Mean score =  0.7835834681646515\n",
            "Random rank score =  0.743268594184471\n"
          ],
          "name": "stdout"
        }
      ]
    },
    {
      "cell_type": "code",
      "metadata": {
        "id": "vH9tBSOXrAx7",
        "colab_type": "code",
        "colab": {
          "base_uri": "https://localhost:8080/",
          "height": 151
        },
        "outputId": "5102a751-a6ac-4a84-8bbf-d2e29f2ad038"
      },
      "source": [
        "feature = ['total_compet_rate', 'Density']\n",
        "\n",
        "hidden_size = (100, 50)\n",
        "\n",
        "lr = Ridge(alpha = 0.01)\n",
        "tree = DecisionTreeRegressor(max_depth=30)\n",
        "svr = SVR(kernel='rbf', C = 0.01)\n",
        "nn = nn = MLPRegressor(\n",
        "     hidden_size,\n",
        "    'relu',\n",
        "    'adam',\n",
        "    learning_rate_init = 0.01,\n",
        "    max_iter = 1000\n",
        ")\n",
        "\n",
        "models = [lr, tree, svr, nn]\n",
        "for i in range(len(models)):\n",
        "  # Decision tree and SVR don't need polynomial degree\n",
        "  if i == 1 or i == 2:\n",
        "    degree = 1\n",
        "  else:\n",
        "    degree = 10\n",
        "  poly_x, y_data = preprocessing(df_ny_data, feature, degree)\n",
        "\n",
        "  mean_score = 0\n",
        "  mean_rand_score = 0\n",
        "\n",
        "  iterations = 1000\n",
        "  for iterate in range(iterations):\n",
        "      x_train, x_test, y_train, y_test = train_test_split(poly_x, y_data, test_size = 0.12)\n",
        "\n",
        "      y_train = y_train.flatten()    \n",
        "      model.fit(x_train, y_train)\n",
        "      predict_score = model.predict(x_test)\n",
        "    \n",
        "      score = ndcg_score([list(y_test.flatten())], [list(predict_score.flatten())], 4)\n",
        "      mean_score += score\n",
        "\n",
        "      rand_score = [np.random.uniform(-1, 1) for i in range(len(y_test))]\n",
        "      rand_score = ndcg_score([list(y_test.flatten())], [rand_score], 4)\n",
        "      mean_rand_score += rand_score\n",
        "    \n",
        "\n",
        "  mean_score = mean_score / iterations\n",
        "  mean_rand_score = mean_rand_score/ iterations\n",
        "  print('Mean score = ', mean_score)\n",
        "  print('Random rank score = ', mean_rand_score)\n",
        " \n",
        "  df_performance.loc['total_compet + Density'][i] = mean_score\n"
      ],
      "execution_count": null,
      "outputs": [
        {
          "output_type": "stream",
          "text": [
            "Mean score =  0.7990040067897394\n",
            "Random rank score =  0.7407407730962983\n",
            "Mean score =  0.8196790537944082\n",
            "Random rank score =  0.7548993204502346\n",
            "Mean score =  0.8290416231124533\n",
            "Random rank score =  0.7453334425068492\n",
            "Mean score =  0.8068697665689095\n",
            "Random rank score =  0.7364991243809696\n"
          ],
          "name": "stdout"
        }
      ]
    },
    {
      "cell_type": "code",
      "metadata": {
        "id": "ufaNvDlishtr",
        "colab_type": "code",
        "colab": {
          "base_uri": "https://localhost:8080/",
          "height": 195
        },
        "outputId": "74b47ec8-bae1-48e6-d071-da4964455aef"
      },
      "source": [
        "df_performance"
      ],
      "execution_count": null,
      "outputs": [
        {
          "output_type": "execute_result",
          "data": {
            "text/html": [
              "<div>\n",
              "<style scoped>\n",
              "    .dataframe tbody tr th:only-of-type {\n",
              "        vertical-align: middle;\n",
              "    }\n",
              "\n",
              "    .dataframe tbody tr th {\n",
              "        vertical-align: top;\n",
              "    }\n",
              "\n",
              "    .dataframe thead th {\n",
              "        text-align: right;\n",
              "    }\n",
              "</style>\n",
              "<table border=\"1\" class=\"dataframe\">\n",
              "  <thead>\n",
              "    <tr style=\"text-align: right;\">\n",
              "      <th></th>\n",
              "      <th>LR</th>\n",
              "      <th>DecisionTree</th>\n",
              "      <th>SVR</th>\n",
              "      <th>Neural Net</th>\n",
              "    </tr>\n",
              "  </thead>\n",
              "  <tbody>\n",
              "    <tr>\n",
              "      <th>total_compet_rate</th>\n",
              "      <td>0.828283</td>\n",
              "      <td>0.827483</td>\n",
              "      <td>0.844368</td>\n",
              "      <td>0.84022</td>\n",
              "    </tr>\n",
              "    <tr>\n",
              "      <th>total_compet + residence_venue</th>\n",
              "      <td>0.786605</td>\n",
              "      <td>0.803779</td>\n",
              "      <td>0.80686</td>\n",
              "      <td>0.783583</td>\n",
              "    </tr>\n",
              "    <tr>\n",
              "      <th>total_compet + Density</th>\n",
              "      <td>0.799004</td>\n",
              "      <td>0.819679</td>\n",
              "      <td>0.829042</td>\n",
              "      <td>0.80687</td>\n",
              "    </tr>\n",
              "    <tr>\n",
              "      <th>total_compet + residence_venue + Density</th>\n",
              "      <td>NaN</td>\n",
              "      <td>NaN</td>\n",
              "      <td>NaN</td>\n",
              "      <td>NaN</td>\n",
              "    </tr>\n",
              "    <tr>\n",
              "      <th>total_compet + residence_venue + Density + competitiveness</th>\n",
              "      <td>NaN</td>\n",
              "      <td>NaN</td>\n",
              "      <td>NaN</td>\n",
              "      <td>NaN</td>\n",
              "    </tr>\n",
              "  </tbody>\n",
              "</table>\n",
              "</div>"
            ],
            "text/plain": [
              "                                                                  LR  \\\n",
              "total_compet_rate                                           0.828283   \n",
              "total_compet + residence_venue                              0.786605   \n",
              "total_compet + Density                                      0.799004   \n",
              "total_compet + residence_venue + Density                         NaN   \n",
              "total_compet + residence_venue + Density + competitiveness       NaN   \n",
              "\n",
              "                                                           DecisionTree  \\\n",
              "total_compet_rate                                              0.827483   \n",
              "total_compet + residence_venue                                 0.803779   \n",
              "total_compet + Density                                         0.819679   \n",
              "total_compet + residence_venue + Density                            NaN   \n",
              "total_compet + residence_venue + Density + competitiveness          NaN   \n",
              "\n",
              "                                                                 SVR  \\\n",
              "total_compet_rate                                           0.844368   \n",
              "total_compet + residence_venue                               0.80686   \n",
              "total_compet + Density                                      0.829042   \n",
              "total_compet + residence_venue + Density                         NaN   \n",
              "total_compet + residence_venue + Density + competitiveness       NaN   \n",
              "\n",
              "                                                           Neural Net  \n",
              "total_compet_rate                                             0.84022  \n",
              "total_compet + residence_venue                               0.783583  \n",
              "total_compet + Density                                        0.80687  \n",
              "total_compet + residence_venue + Density                          NaN  \n",
              "total_compet + residence_venue + Density + competitiveness        NaN  "
            ]
          },
          "metadata": {
            "tags": []
          },
          "execution_count": 40
        }
      ]
    },
    {
      "cell_type": "code",
      "metadata": {
        "id": "LBv46sKStnSl",
        "colab_type": "code",
        "colab": {
          "base_uri": "https://localhost:8080/",
          "height": 151
        },
        "outputId": "e4ef7333-54d1-4330-f650-c050a690d76f"
      },
      "source": [
        "feature = ['total_compet_rate', 'Density', 'residence_venue']\n",
        "\n",
        "hidden_size = (100, 50)\n",
        "\n",
        "lr = Ridge(alpha = 0.01)\n",
        "tree = DecisionTreeRegressor(max_depth=30)\n",
        "svr = SVR(kernel='rbf', C = 0.01)\n",
        "nn = nn = MLPRegressor(\n",
        "     hidden_size,\n",
        "    'relu',\n",
        "    'adam',\n",
        "    learning_rate_init = 0.01,\n",
        "    max_iter = 1000\n",
        ")\n",
        "\n",
        "models = [lr, tree, svr, nn]\n",
        "for i in range(len(models)):\n",
        "  # Decision tree and SVR don't need polynomial degree\n",
        "  if i == 0:\n",
        "    degree = 10\n",
        "  elif i == 1 or i == 2:\n",
        "    degree = 1\n",
        "  elif i == 3:\n",
        "    degree = 5\n",
        "  poly_x, y_data = preprocessing(df_ny_data, feature, degree)\n",
        "\n",
        "  mean_score = 0\n",
        "  mean_rand_score = 0\n",
        "\n",
        "  iterations = 1000\n",
        "  for iterate in range(iterations):\n",
        "      x_train, x_test, y_train, y_test = train_test_split(poly_x, y_data, test_size = 0.12)\n",
        "\n",
        "      y_train = y_train.flatten()    \n",
        "      model.fit(x_train, y_train)\n",
        "      predict_score = model.predict(x_test)\n",
        "    \n",
        "      score = ndcg_score([list(y_test.flatten())], [list(predict_score.flatten())], 4)\n",
        "      mean_score += score\n",
        "\n",
        "      rand_score = [np.random.uniform(-1, 1) for i in range(len(y_test))]\n",
        "      rand_score = ndcg_score([list(y_test.flatten())], [rand_score], 4)\n",
        "      mean_rand_score += rand_score\n",
        "    \n",
        "\n",
        "  mean_score = mean_score / iterations\n",
        "  mean_rand_score = mean_rand_score/ iterations\n",
        "  print('Mean score = ', mean_score)\n",
        "  print('Random rank score = ', mean_rand_score)\n",
        " \n",
        "  df_performance.loc['total_compet + residence_venue + Density'][i] = mean_score\n"
      ],
      "execution_count": null,
      "outputs": [
        {
          "output_type": "stream",
          "text": [
            "Mean score =  0.8032006906274504\n",
            "Random rank score =  0.7497006025095458\n",
            "Mean score =  0.8042025231178748\n",
            "Random rank score =  0.7503936651988291\n",
            "Mean score =  0.7986871836282052\n",
            "Random rank score =  0.74464447172594\n",
            "Mean score =  0.8043781516523937\n",
            "Random rank score =  0.7507944888615818\n"
          ],
          "name": "stdout"
        }
      ]
    },
    {
      "cell_type": "code",
      "metadata": {
        "id": "hpPg5KhtuAIv",
        "colab_type": "code",
        "colab": {
          "base_uri": "https://localhost:8080/",
          "height": 195
        },
        "outputId": "24ae0160-a4eb-4140-d76b-53b58c08c40f"
      },
      "source": [
        "df_performance"
      ],
      "execution_count": null,
      "outputs": [
        {
          "output_type": "execute_result",
          "data": {
            "text/html": [
              "<div>\n",
              "<style scoped>\n",
              "    .dataframe tbody tr th:only-of-type {\n",
              "        vertical-align: middle;\n",
              "    }\n",
              "\n",
              "    .dataframe tbody tr th {\n",
              "        vertical-align: top;\n",
              "    }\n",
              "\n",
              "    .dataframe thead th {\n",
              "        text-align: right;\n",
              "    }\n",
              "</style>\n",
              "<table border=\"1\" class=\"dataframe\">\n",
              "  <thead>\n",
              "    <tr style=\"text-align: right;\">\n",
              "      <th></th>\n",
              "      <th>LR</th>\n",
              "      <th>DecisionTree</th>\n",
              "      <th>SVR</th>\n",
              "      <th>Neural Net</th>\n",
              "    </tr>\n",
              "  </thead>\n",
              "  <tbody>\n",
              "    <tr>\n",
              "      <th>total_compet_rate</th>\n",
              "      <td>0.828283</td>\n",
              "      <td>0.827483</td>\n",
              "      <td>0.844368</td>\n",
              "      <td>0.84022</td>\n",
              "    </tr>\n",
              "    <tr>\n",
              "      <th>total_compet + residence_venue</th>\n",
              "      <td>0.786605</td>\n",
              "      <td>0.803779</td>\n",
              "      <td>0.80686</td>\n",
              "      <td>0.783583</td>\n",
              "    </tr>\n",
              "    <tr>\n",
              "      <th>total_compet + Density</th>\n",
              "      <td>0.799004</td>\n",
              "      <td>0.819679</td>\n",
              "      <td>0.829042</td>\n",
              "      <td>0.80687</td>\n",
              "    </tr>\n",
              "    <tr>\n",
              "      <th>total_compet + residence_venue + Density</th>\n",
              "      <td>0.803201</td>\n",
              "      <td>0.804203</td>\n",
              "      <td>0.798687</td>\n",
              "      <td>0.804378</td>\n",
              "    </tr>\n",
              "    <tr>\n",
              "      <th>total_compet + residence_venue + Density + competitiveness</th>\n",
              "      <td>NaN</td>\n",
              "      <td>NaN</td>\n",
              "      <td>NaN</td>\n",
              "      <td>NaN</td>\n",
              "    </tr>\n",
              "  </tbody>\n",
              "</table>\n",
              "</div>"
            ],
            "text/plain": [
              "                                                                  LR  \\\n",
              "total_compet_rate                                           0.828283   \n",
              "total_compet + residence_venue                              0.786605   \n",
              "total_compet + Density                                      0.799004   \n",
              "total_compet + residence_venue + Density                    0.803201   \n",
              "total_compet + residence_venue + Density + competitiveness       NaN   \n",
              "\n",
              "                                                           DecisionTree  \\\n",
              "total_compet_rate                                              0.827483   \n",
              "total_compet + residence_venue                                 0.803779   \n",
              "total_compet + Density                                         0.819679   \n",
              "total_compet + residence_venue + Density                       0.804203   \n",
              "total_compet + residence_venue + Density + competitiveness          NaN   \n",
              "\n",
              "                                                                 SVR  \\\n",
              "total_compet_rate                                           0.844368   \n",
              "total_compet + residence_venue                               0.80686   \n",
              "total_compet + Density                                      0.829042   \n",
              "total_compet + residence_venue + Density                    0.798687   \n",
              "total_compet + residence_venue + Density + competitiveness       NaN   \n",
              "\n",
              "                                                           Neural Net  \n",
              "total_compet_rate                                             0.84022  \n",
              "total_compet + residence_venue                               0.783583  \n",
              "total_compet + Density                                        0.80687  \n",
              "total_compet + residence_venue + Density                     0.804378  \n",
              "total_compet + residence_venue + Density + competitiveness        NaN  "
            ]
          },
          "metadata": {
            "tags": []
          },
          "execution_count": 42
        }
      ]
    },
    {
      "cell_type": "code",
      "metadata": {
        "id": "_N5Vgjb5wcFW",
        "colab_type": "code",
        "colab": {
          "base_uri": "https://localhost:8080/",
          "height": 151
        },
        "outputId": "2a280dad-e8d3-43cd-cbf7-1200b2685656"
      },
      "source": [
        "feature = ['total_compet_rate', 'Density', 'residence_venue', 'competitiveness']\n",
        "\n",
        "hidden_size = (100, 50)\n",
        "\n",
        "lr = Ridge(alpha = 0.01)\n",
        "tree = DecisionTreeRegressor(max_depth=30)\n",
        "svr = SVR(kernel='rbf', C = 0.01)\n",
        "nn = nn = MLPRegressor(\n",
        "     hidden_size,\n",
        "    'relu',\n",
        "    'adam',\n",
        "    learning_rate_init = 0.01,\n",
        "    max_iter = 1000\n",
        ")\n",
        "\n",
        "models = [lr, tree, svr, nn]\n",
        "for i in range(len(models)):\n",
        "  # Decision tree and SVR don't need polynomial degree\n",
        "  if i == 0:\n",
        "    degree = 10\n",
        "  elif i == 1 or i == 2:\n",
        "    degree = 1\n",
        "  elif i == 3:\n",
        "    degree = 5\n",
        "  poly_x, y_data = preprocessing(df_ny_data, feature, degree)\n",
        "\n",
        "  mean_score = 0\n",
        "  mean_rand_score = 0\n",
        "\n",
        "  iterations = 1000\n",
        "  for iterate in range(iterations):\n",
        "      x_train, x_test, y_train, y_test = train_test_split(poly_x, y_data, test_size = 0.12)\n",
        "\n",
        "      y_train = y_train.flatten()    \n",
        "      model.fit(x_train, y_train)\n",
        "      predict_score = model.predict(x_test)\n",
        "    \n",
        "      score = ndcg_score([list(y_test.flatten())], [list(predict_score.flatten())], 4)\n",
        "      mean_score += score\n",
        "\n",
        "      rand_score = [np.random.uniform(-1, 1) for i in range(len(y_test))]\n",
        "      rand_score = ndcg_score([list(y_test.flatten())], [rand_score], 4)\n",
        "      mean_rand_score += rand_score\n",
        "    \n",
        "\n",
        "  mean_score = mean_score / iterations\n",
        "  mean_rand_score = mean_rand_score/ iterations\n",
        "  print('Mean score = ', mean_score)\n",
        "  print('Random rank score = ', mean_rand_score)\n",
        " \n",
        "  df_performance.loc['total_compet + residence_venue + Density + competitiveness'][i] = mean_score\n"
      ],
      "execution_count": null,
      "outputs": [
        {
          "output_type": "stream",
          "text": [
            "Mean score =  0.7866789589438442\n",
            "Random rank score =  0.7463344985591893\n",
            "Mean score =  0.7984666577545134\n",
            "Random rank score =  0.7541347084799783\n",
            "Mean score =  0.7953331946823621\n",
            "Random rank score =  0.7479079721411954\n",
            "Mean score =  0.7856345351144364\n",
            "Random rank score =  0.7497688063884342\n"
          ],
          "name": "stdout"
        }
      ]
    },
    {
      "cell_type": "code",
      "metadata": {
        "id": "nmcJMUJlwvZ8",
        "colab_type": "code",
        "colab": {
          "base_uri": "https://localhost:8080/",
          "height": 195
        },
        "outputId": "f35159c3-ac03-43d4-a2db-f8566ea9d703"
      },
      "source": [
        "df_performance"
      ],
      "execution_count": null,
      "outputs": [
        {
          "output_type": "execute_result",
          "data": {
            "text/html": [
              "<div>\n",
              "<style scoped>\n",
              "    .dataframe tbody tr th:only-of-type {\n",
              "        vertical-align: middle;\n",
              "    }\n",
              "\n",
              "    .dataframe tbody tr th {\n",
              "        vertical-align: top;\n",
              "    }\n",
              "\n",
              "    .dataframe thead th {\n",
              "        text-align: right;\n",
              "    }\n",
              "</style>\n",
              "<table border=\"1\" class=\"dataframe\">\n",
              "  <thead>\n",
              "    <tr style=\"text-align: right;\">\n",
              "      <th></th>\n",
              "      <th>LR</th>\n",
              "      <th>DecisionTree</th>\n",
              "      <th>SVR</th>\n",
              "      <th>Neural Net</th>\n",
              "    </tr>\n",
              "  </thead>\n",
              "  <tbody>\n",
              "    <tr>\n",
              "      <th>total_compet_rate</th>\n",
              "      <td>0.828283</td>\n",
              "      <td>0.827483</td>\n",
              "      <td>0.844368</td>\n",
              "      <td>0.84022</td>\n",
              "    </tr>\n",
              "    <tr>\n",
              "      <th>total_compet + residence_venue</th>\n",
              "      <td>0.786605</td>\n",
              "      <td>0.803779</td>\n",
              "      <td>0.80686</td>\n",
              "      <td>0.783583</td>\n",
              "    </tr>\n",
              "    <tr>\n",
              "      <th>total_compet + Density</th>\n",
              "      <td>0.799004</td>\n",
              "      <td>0.819679</td>\n",
              "      <td>0.829042</td>\n",
              "      <td>0.80687</td>\n",
              "    </tr>\n",
              "    <tr>\n",
              "      <th>total_compet + residence_venue + Density</th>\n",
              "      <td>0.803201</td>\n",
              "      <td>0.804203</td>\n",
              "      <td>0.798687</td>\n",
              "      <td>0.804378</td>\n",
              "    </tr>\n",
              "    <tr>\n",
              "      <th>total_compet + residence_venue + Density + competitiveness</th>\n",
              "      <td>0.786679</td>\n",
              "      <td>0.798467</td>\n",
              "      <td>0.795333</td>\n",
              "      <td>0.785635</td>\n",
              "    </tr>\n",
              "  </tbody>\n",
              "</table>\n",
              "</div>"
            ],
            "text/plain": [
              "                                                                  LR  \\\n",
              "total_compet_rate                                           0.828283   \n",
              "total_compet + residence_venue                              0.786605   \n",
              "total_compet + Density                                      0.799004   \n",
              "total_compet + residence_venue + Density                    0.803201   \n",
              "total_compet + residence_venue + Density + competitiveness  0.786679   \n",
              "\n",
              "                                                           DecisionTree  \\\n",
              "total_compet_rate                                              0.827483   \n",
              "total_compet + residence_venue                                 0.803779   \n",
              "total_compet + Density                                         0.819679   \n",
              "total_compet + residence_venue + Density                       0.804203   \n",
              "total_compet + residence_venue + Density + competitiveness     0.798467   \n",
              "\n",
              "                                                                 SVR  \\\n",
              "total_compet_rate                                           0.844368   \n",
              "total_compet + residence_venue                               0.80686   \n",
              "total_compet + Density                                      0.829042   \n",
              "total_compet + residence_venue + Density                    0.798687   \n",
              "total_compet + residence_venue + Density + competitiveness  0.795333   \n",
              "\n",
              "                                                           Neural Net  \n",
              "total_compet_rate                                             0.84022  \n",
              "total_compet + residence_venue                               0.783583  \n",
              "total_compet + Density                                        0.80687  \n",
              "total_compet + residence_venue + Density                     0.804378  \n",
              "total_compet + residence_venue + Density + competitiveness   0.785635  "
            ]
          },
          "metadata": {
            "tags": []
          },
          "execution_count": 44
        }
      ]
    },
    {
      "cell_type": "code",
      "metadata": {
        "id": "LX868fD94TrE",
        "colab_type": "code",
        "colab": {
          "resources": {
            "http://localhost:8080/nbextensions/google.colab/files.js": {
              "data": "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",
              "ok": true,
              "headers": [
                [
                  "content-type",
                  "application/javascript"
                ]
              ],
              "status": 200,
              "status_text": ""
            }
          },
          "base_uri": "https://localhost:8080/",
          "height": 340
        },
        "outputId": "f27080a1-f210-4577-ca3b-bdcd03fcfacb"
      },
      "source": [
        "import folium\n",
        "\n",
        "files.upload()\n",
        "df = pd.read_csv('df_ny_feature.csv', index_col=False)\n",
        "df.head()"
      ],
      "execution_count": null,
      "outputs": [
        {
          "output_type": "display_data",
          "data": {
            "text/html": [
              "\n",
              "     <input type=\"file\" id=\"files-1dc79fc7-7bfd-49bf-8490-44e98e1ca668\" name=\"files[]\" multiple disabled\n",
              "        style=\"border:none\" />\n",
              "     <output id=\"result-1dc79fc7-7bfd-49bf-8490-44e98e1ca668\">\n",
              "      Upload widget is only available when the cell has been executed in the\n",
              "      current browser session. Please rerun this cell to enable.\n",
              "      </output>\n",
              "      <script src=\"/nbextensions/google.colab/files.js\"></script> "
            ],
            "text/plain": [
              "<IPython.core.display.HTML object>"
            ]
          },
          "metadata": {
            "tags": []
          }
        },
        {
          "output_type": "stream",
          "text": [
            "Saving df_ny_feature.csv to df_ny_feature.csv\n"
          ],
          "name": "stdout"
        },
        {
          "output_type": "execute_result",
          "data": {
            "text/html": [
              "<div>\n",
              "<style scoped>\n",
              "    .dataframe tbody tr th:only-of-type {\n",
              "        vertical-align: middle;\n",
              "    }\n",
              "\n",
              "    .dataframe tbody tr th {\n",
              "        vertical-align: top;\n",
              "    }\n",
              "\n",
              "    .dataframe thead th {\n",
              "        text-align: right;\n",
              "    }\n",
              "</style>\n",
              "<table border=\"1\" class=\"dataframe\">\n",
              "  <thead>\n",
              "    <tr style=\"text-align: right;\">\n",
              "      <th></th>\n",
              "      <th>name_x</th>\n",
              "      <th>latitude</th>\n",
              "      <th>longitude</th>\n",
              "      <th>venue_id</th>\n",
              "      <th>city</th>\n",
              "      <th>ratings</th>\n",
              "      <th>comments</th>\n",
              "      <th>Density</th>\n",
              "      <th>neighbor_entropy</th>\n",
              "      <th>competitiveness</th>\n",
              "      <th>other_food_neighbor</th>\n",
              "      <th>food_neighbor_rate</th>\n",
              "      <th>residence_venue</th>\n",
              "    </tr>\n",
              "  </thead>\n",
              "  <tbody>\n",
              "    <tr>\n",
              "      <th>0</th>\n",
              "      <td>McDonald's</td>\n",
              "      <td>40.7578</td>\n",
              "      <td>-73.9854</td>\n",
              "      <td>5cf87778b399f7002cf1071a</td>\n",
              "      <td>New York</td>\n",
              "      <td>3.3</td>\n",
              "      <td>318</td>\n",
              "      <td>41.0</td>\n",
              "      <td>2.466631</td>\n",
              "      <td>-0.268293</td>\n",
              "      <td>25</td>\n",
              "      <td>0.609756</td>\n",
              "      <td>3</td>\n",
              "    </tr>\n",
              "    <tr>\n",
              "      <th>1</th>\n",
              "      <td>McDonald's</td>\n",
              "      <td>40.7266</td>\n",
              "      <td>-74.0386</td>\n",
              "      <td>4bf5553ecad2c928a9e49c99</td>\n",
              "      <td>Jersey City</td>\n",
              "      <td>3.7</td>\n",
              "      <td>622</td>\n",
              "      <td>43.0</td>\n",
              "      <td>3.150678</td>\n",
              "      <td>-0.186047</td>\n",
              "      <td>29</td>\n",
              "      <td>0.674419</td>\n",
              "      <td>2</td>\n",
              "    </tr>\n",
              "    <tr>\n",
              "      <th>2</th>\n",
              "      <td>McDonald's</td>\n",
              "      <td>40.7609</td>\n",
              "      <td>-73.9673</td>\n",
              "      <td>4f7f4df2754a7bf483d814c8</td>\n",
              "      <td>New York</td>\n",
              "      <td>3.8</td>\n",
              "      <td>1644</td>\n",
              "      <td>26.0</td>\n",
              "      <td>2.971377</td>\n",
              "      <td>-0.230769</td>\n",
              "      <td>20</td>\n",
              "      <td>0.769231</td>\n",
              "      <td>5</td>\n",
              "    </tr>\n",
              "    <tr>\n",
              "      <th>3</th>\n",
              "      <td>McDonald's</td>\n",
              "      <td>40.7609</td>\n",
              "      <td>-73.9673</td>\n",
              "      <td>52e9a22e498e55622108b7d9</td>\n",
              "      <td>New York</td>\n",
              "      <td>3.8</td>\n",
              "      <td>1644</td>\n",
              "      <td>26.0</td>\n",
              "      <td>2.971377</td>\n",
              "      <td>-0.230769</td>\n",
              "      <td>20</td>\n",
              "      <td>0.769231</td>\n",
              "      <td>5</td>\n",
              "    </tr>\n",
              "    <tr>\n",
              "      <th>4</th>\n",
              "      <td>McDonald's</td>\n",
              "      <td>40.7595</td>\n",
              "      <td>-73.9183</td>\n",
              "      <td>4b304c35f964a520b8f824e3</td>\n",
              "      <td>Astoria</td>\n",
              "      <td>3.9</td>\n",
              "      <td>652</td>\n",
              "      <td>15.0</td>\n",
              "      <td>2.488328</td>\n",
              "      <td>-0.200000</td>\n",
              "      <td>8</td>\n",
              "      <td>0.533333</td>\n",
              "      <td>5</td>\n",
              "    </tr>\n",
              "  </tbody>\n",
              "</table>\n",
              "</div>"
            ],
            "text/plain": [
              "       name_x  latitude  longitude                  venue_id         city  \\\n",
              "0  McDonald's   40.7578   -73.9854  5cf87778b399f7002cf1071a     New York   \n",
              "1  McDonald's   40.7266   -74.0386  4bf5553ecad2c928a9e49c99  Jersey City   \n",
              "2  McDonald's   40.7609   -73.9673  4f7f4df2754a7bf483d814c8     New York   \n",
              "3  McDonald's   40.7609   -73.9673  52e9a22e498e55622108b7d9     New York   \n",
              "4  McDonald's   40.7595   -73.9183  4b304c35f964a520b8f824e3      Astoria   \n",
              "\n",
              "   ratings  comments  Density  neighbor_entropy  competitiveness  \\\n",
              "0      3.3       318     41.0          2.466631        -0.268293   \n",
              "1      3.7       622     43.0          3.150678        -0.186047   \n",
              "2      3.8      1644     26.0          2.971377        -0.230769   \n",
              "3      3.8      1644     26.0          2.971377        -0.230769   \n",
              "4      3.9       652     15.0          2.488328        -0.200000   \n",
              "\n",
              "   other_food_neighbor  food_neighbor_rate  residence_venue  \n",
              "0                   25            0.609756                3  \n",
              "1                   29            0.674419                2  \n",
              "2                   20            0.769231                5  \n",
              "3                   20            0.769231                5  \n",
              "4                    8            0.533333                5  "
            ]
          },
          "metadata": {
            "tags": []
          },
          "execution_count": 48
        }
      ]
    },
    {
      "cell_type": "code",
      "metadata": {
        "id": "BqS2FNP8BlG3",
        "colab_type": "code",
        "colab": {}
      },
      "source": [
        ""
      ],
      "execution_count": null,
      "outputs": []
    }
  ]
}